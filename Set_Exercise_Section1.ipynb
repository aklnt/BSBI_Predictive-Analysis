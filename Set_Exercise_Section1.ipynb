{
  "nbformat": 4,
  "nbformat_minor": 0,
  "metadata": {
    "colab": {
      "provenance": [],
      "authorship_tag": "ABX9TyP3txd7oJUiqQRVRcM42zRK",
      "include_colab_link": true
    },
    "kernelspec": {
      "name": "python3",
      "display_name": "Python 3"
    },
    "language_info": {
      "name": "python"
    }
  },
  "cells": [
    {
      "cell_type": "markdown",
      "metadata": {
        "id": "view-in-github",
        "colab_type": "text"
      },
      "source": [
        "<a href=\"https://colab.research.google.com/github/aklnt/BSBI_Predictive-Analysis/blob/main/Set_Exercise_Section1.ipynb\" target=\"_parent\"><img src=\"https://colab.research.google.com/assets/colab-badge.svg\" alt=\"Open In Colab\"/></a>"
      ]
    },
    {
      "cell_type": "markdown",
      "source": [
        "# **Defining methods for calculating entropy and information gain**"
      ],
      "metadata": {
        "id": "223SnYNQ_8fq"
      }
    },
    {
      "cell_type": "code",
      "execution_count": null,
      "metadata": {
        "id": "M77zKT-1_qT3"
      },
      "outputs": [],
      "source": [
        "import math\n",
        "\n",
        "def entropy(probabilities):\n",
        "    return -sum(p * math.log2(p) for p in probabilities if p > 0)\n",
        "\n",
        "def information_gain(total_entropy, subsets):\n",
        "    total_samples = sum(sum(subset.values()) for subset in subsets)\n",
        "    weighted_entropy = sum((sum(subset.values()) / total_samples) * entropy([count / sum(subset.values()) for count in subset.values()])\n",
        "                          for subset in subsets)\n",
        "    return total_entropy - weighted_entropy"
      ]
    },
    {
      "cell_type": "markdown",
      "source": [
        "# **Q1-Total entropy with respect to classification**"
      ],
      "metadata": {
        "id": "iYED-IHiARx1"
      }
    },
    {
      "cell_type": "code",
      "source": [
        "p1, p2 = 5 / 10, 5 / 10  # Proportions of edible and poisonous mushrooms\n",
        "H_S = entropy([p1, p2])\n",
        "\n",
        "print(\"Q1: Total entropy is:\", H_S)"
      ],
      "metadata": {
        "colab": {
          "base_uri": "https://localhost:8080/"
        },
        "id": "2i7yUUR1A-AC",
        "outputId": "cbf343c9-4ac9-4ef3-a2b4-577c725078fd"
      },
      "execution_count": null,
      "outputs": [
        {
          "output_type": "stream",
          "name": "stdout",
          "text": [
            "Q1: Total entropy is: 1.0\n"
          ]
        }
      ]
    },
    {
      "cell_type": "markdown",
      "source": [
        "# **Q2-Information gain of Cap-color**"
      ],
      "metadata": {
        "id": "20c0WASRB2Yk"
      }
    },
    {
      "cell_type": "code",
      "source": [
        "cap_color_data = [\n",
        "    {\"Edible\": 3, \"Poisonous\": 0},  # Cap-Color = w (3 samples)\n",
        "    {\"Edible\": 2, \"Poisonous\": 3},   # Cap-Color = y (5 samples)\n",
        "    {\"Edible\": 0, \"Poisonous\": 1},  # Cap-Color = r (1 samples)\n",
        "    {\"Edible\": 0, \"Poisonous\": 1}  # Cap-Color = g (1 samples)\n",
        "]\n",
        "\n",
        "# Calculate IG for Cap-Color\n",
        "IG_cap_color = information_gain(H_S, cap_color_data)\n",
        "\n",
        "print(\"Q2: Information Gain for Cap-Color:\", IG_cap_color)"
      ],
      "metadata": {
        "colab": {
          "base_uri": "https://localhost:8080/"
        },
        "id": "E1_iVnK_AiPu",
        "outputId": "22b0c2a2-3c13-4b46-8a89-82735b873b7c"
      },
      "execution_count": null,
      "outputs": [
        {
          "output_type": "stream",
          "name": "stdout",
          "text": [
            "Q2: Information Gain for Cap-Color: 0.5145247027726657\n"
          ]
        }
      ]
    },
    {
      "cell_type": "markdown",
      "source": [
        "# **Q3-Choosing next attribute after Cap-Color**\n",
        "**(Information gain of other features)**"
      ],
      "metadata": {
        "id": "w3Wf2uvcAxTK"
      }
    },
    {
      "cell_type": "code",
      "source": [
        "odor_data = [\n",
        "    {\"Edible\": 2, \"Poisonous\": 2},  # Odor = p (4 samples)\n",
        "    {\"Edible\": 2, \"Poisonous\": 0},  # Odor = a (2 samples)\n",
        "    {\"Edible\": 1, \"Poisonous\": 2},  # Odor = n (3 samples)\n",
        "    {\"Edible\": 0, \"Poisonous\": 1}   # Odor = s (1 sample)\n",
        "]\n",
        "# Calculate IG for Odor\n",
        "IG_odor = information_gain(H_S, odor_data)"
      ],
      "metadata": {
        "id": "iv1DsNEyCLyW"
      },
      "execution_count": null,
      "outputs": []
    },
    {
      "cell_type": "code",
      "source": [
        "habitat_data = [\n",
        "    {\"Edible\": 1, \"Poisonous\": 3},  # Habitat = m (4 samples)\n",
        "    {\"Edible\": 3, \"Poisonous\": 0},  # Habitat = u (3 samples)\n",
        "    {\"Edible\": 1, \"Poisonous\": 2}   # Habitat = l (3 samples)\n",
        "]\n",
        "# Calculate IG for Habitat\n",
        "IG_habitat = information_gain(H_S, habitat_data)"
      ],
      "metadata": {
        "collapsed": true,
        "id": "RYi63KxKCkH5"
      },
      "execution_count": null,
      "outputs": []
    },
    {
      "cell_type": "code",
      "source": [
        "cap_shape_data = [\n",
        "    {\"Edible\": 3, \"Poisonous\": 2},  # Cap-Shape = c (5 samples)\n",
        "    {\"Edible\": 2, \"Poisonous\": 1},  # Cap-Shape = f (3 samples)\n",
        "    {\"Edible\": 0, \"Poisonous\": 2}   # Cap-Shape = b (2 samples)\n",
        "]\n",
        "# Calculate IG for Cap-Shape\n",
        "IG_cap_shape = information_gain(H_S, cap_shape_data)"
      ],
      "metadata": {
        "id": "U14uVG4vCvvp"
      },
      "execution_count": null,
      "outputs": []
    },
    {
      "cell_type": "code",
      "source": [
        "print(\"Q3: Information Gain for Odor:\", IG_odor)\n",
        "print(\"Q3: Information Gain for Habitat:\", IG_habitat)\n",
        "print(\"Q3: Information Gain for Cap-Shape:\", IG_cap_shape)\n",
        "print(\"---------------------------------------\")\n",
        "print(\"Q3: Best attribute to split after Cap-Color:\", \"Habitat\")"
      ],
      "metadata": {
        "colab": {
          "base_uri": "https://localhost:8080/"
        },
        "id": "17MdUTujDyiu",
        "outputId": "865062fc-0bca-49ab-d17d-334f3c143a12"
      },
      "execution_count": null,
      "outputs": [
        {
          "output_type": "stream",
          "name": "stdout",
          "text": [
            "Q3: Information Gain for Odor: 0.3245112497836531\n",
            "Q3: Information Gain for Habitat: 0.4\n",
            "Q3: Information Gain for Cap-Shape: 0.23903595255631882\n",
            "---------------------------------------\n",
            "Q3: Best attribute to split after Cap-Color: Habitat\n"
          ]
        }
      ]
    },
    {
      "cell_type": "markdown",
      "source": [
        "# **Q4-Calculate misclassification_rate**"
      ],
      "metadata": {
        "id": "H5r8D1vDD_Pl"
      }
    },
    {
      "cell_type": "code",
      "source": [
        "misclassification_rate = 1 - (p1 ** 2 + p2 ** 2)\n",
        "\n",
        "print(\"Q4: Expected Misclassification Rate:\", misclassification_rate)"
      ],
      "metadata": {
        "colab": {
          "base_uri": "https://localhost:8080/"
        },
        "id": "h7knHPnHEIvb",
        "outputId": "0cef5b12-4e96-43c3-dad0-63fec4d7d954"
      },
      "execution_count": null,
      "outputs": [
        {
          "output_type": "stream",
          "name": "stdout",
          "text": [
            "Q4: Expected Misclassification Rate: 0.5\n"
          ]
        }
      ]
    }
  ]
}